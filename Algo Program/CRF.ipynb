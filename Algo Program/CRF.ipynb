{
 "cells": [
  {
   "cell_type": "code",
   "execution_count": 1,
   "metadata": {
    "executionInfo": {
     "elapsed": 4206,
     "status": "ok",
     "timestamp": 1607764001007,
     "user": {
      "displayName": "電機工程系李佑謙",
      "photoUrl": "",
      "userId": "12926186795036101542"
     },
     "user_tz": -480
    },
    "id": "ejjDsguW_sR9"
   },
   "outputs": [],
   "source": [
    "import torch\n",
    "import random\n",
    "import numpy as np\n",
    "\n",
    "SEED = 1234\n",
    "\n",
    "random.seed(SEED)\n",
    "np.random.seed(SEED)\n",
    "torch.manual_seed(SEED)\n",
    "torch.backends.cudnn.deterministic = True"
   ]
  },
  {
   "cell_type": "code",
   "execution_count": 2,
   "metadata": {
    "id": "YpyJTVTn_u7f"
   },
   "outputs": [],
   "source": [
    "from torchtext.datasets import SequenceTaggingDataset\n",
    "\n",
    "class AICup2020(SequenceTaggingDataset):\n",
    "    @classmethod\n",
    "    def splits(cls, fields, path ='aidai/',\n",
    "               root='aidai/', train=\"train3.txt\",\n",
    "               validation=\"dev3.txt\",\n",
    "               test=\"test3.txt\", **kwargs):\n",
    "        return super(AICup2020, cls).splits(path = path,\n",
    "            fields=fields, root=root, train=train, validation=validation,\n",
    "            test=test, **kwargs)"
   ]
  },
  {
   "cell_type": "code",
   "execution_count": 3,
   "metadata": {
    "id": "Zlar3mgaFlai"
   },
   "outputs": [],
   "source": [
    "from torchtext import data\n",
    "\n",
    "TEXT = data.Field(batch_first = True)\n",
    "CHAR = data.NestedField(data.Field(tokenize=list, batch_first = True))\n",
    "PHI_TAGS = data.Field(unk_token = None, batch_first = True)\n",
    "fields = (((\"text\", \"char\"), (TEXT, CHAR)), (\"labels\", PHI_TAGS))"
   ]
  },
  {
   "cell_type": "code",
   "execution_count": 4,
   "metadata": {
    "colab": {
     "base_uri": "https://localhost:8080/"
    },
    "executionInfo": {
     "elapsed": 13560,
     "status": "ok",
     "timestamp": 1607586382687,
     "user": {
      "displayName": "Hong-Jie Dai",
      "photoUrl": "",
      "userId": "00527198433951254052"
     },
     "user_tz": -480
    },
    "id": "ZHmbm_URF81Z",
    "outputId": "ae6663d0-8979-42f8-b211-ca2ac2aae161"
   },
   "outputs": [
    {
     "name": "stdout",
     "output_type": "stream",
     "text": [
      "Number of training examples: 15496\n",
      "Number of validation examples: 2804\n",
      "Number of testing examples: 4922\n"
     ]
    }
   ],
   "source": [
    "train_data, valid_data, test_data = AICup2020.splits(fields)\n",
    "print(f\"Number of training examples: {len(train_data)}\")\n",
    "print(f\"Number of validation examples: {len(valid_data)}\")\n",
    "print(f\"Number of testing examples: {len(test_data)}\")"
   ]
  },
  {
   "cell_type": "code",
   "execution_count": 5,
   "metadata": {
    "id": "xIgqhl4dIgyn"
   },
   "outputs": [],
   "source": [
    "import torch\n",
    "\n",
    "MIN_FREQ = 2\n",
    "TEXT.build_vocab(train_data, min_freq = MIN_FREQ)\n",
    "\n",
    "MIN_CHAR_FREQ = 5\n",
    "CHAR.build_vocab(train_data, min_freq = MIN_CHAR_FREQ)\n",
    "\n",
    "PHI_TAGS.build_vocab(train_data)"
   ]
  },
  {
   "cell_type": "code",
   "execution_count": 6,
   "metadata": {
    "colab": {
     "base_uri": "https://localhost:8080/"
    },
    "executionInfo": {
     "elapsed": 13551,
     "status": "ok",
     "timestamp": 1607586382688,
     "user": {
      "displayName": "Hong-Jie Dai",
      "photoUrl": "",
      "userId": "00527198433951254052"
     },
     "user_tz": -480
    },
    "id": "sUGyeGUhJNg_",
    "outputId": "488a0a16-3bc6-44b4-8079-91db6e519181"
   },
   "outputs": [
    {
     "name": "stdout",
     "output_type": "stream",
     "text": [
      "Unique tokens in TEXT vocabulary: 3124\n",
      "Unique tokens in PHI_TAG vocabulary: 21\n",
      "Unique tokens in CHAR vocabulary: 1182\n",
      "[('：', 14155), ('。', 12271), ('，', 11703), ('民眾', 6239), ('醫師', 5812)]\n",
      "[('O', 180578), ('I-time', 1482), ('B-time', 1434), ('B-med_exam', 220), ('B-name', 169)]\n",
      "[('：', 14359), ('。', 12496), ('，', 11824), ('師', 7434), ('是', 6706)]\n"
     ]
    }
   ],
   "source": [
    "print(f\"Unique tokens in TEXT vocabulary: {len(TEXT.vocab)}\")\n",
    "print(f\"Unique tokens in PHI_TAG vocabulary: {len(PHI_TAGS.vocab)}\")\n",
    "print(f\"Unique tokens in CHAR vocabulary: {len(CHAR.vocab)}\")\n",
    "\n",
    "print(TEXT.vocab.freqs.most_common(5))\n",
    "print(PHI_TAGS.vocab.freqs.most_common(5))\n",
    "print(CHAR.vocab.freqs.most_common(5))"
   ]
  },
  {
   "cell_type": "code",
   "execution_count": 7,
   "metadata": {
    "colab": {
     "base_uri": "https://localhost:8080/"
    },
    "executionInfo": {
     "elapsed": 13545,
     "status": "ok",
     "timestamp": 1607586382689,
     "user": {
      "displayName": "Hong-Jie Dai",
      "photoUrl": "",
      "userId": "00527198433951254052"
     },
     "user_tz": -480
    },
    "id": "L3THKfwXKETO",
    "outputId": "95149148-bd10-4de8-cd7e-42a0c3410318"
   },
   "outputs": [
    {
     "name": "stdout",
     "output_type": "stream",
     "text": [
      "Tag             \tCount   \tPercentage\n",
      "\n",
      "O               \t  180578\t     0.979\n",
      "I-time          \t    1482\t     0.008\n",
      "B-time          \t    1434\t     0.008\n",
      "B-med_exam      \t     220\t     0.001\n",
      "B-name          \t     169\t     0.001\n",
      "B-location      \t     161\t     0.001\n",
      "I-name          \t      91\t     0.000\n",
      "B-money         \t      78\t     0.000\n",
      "I-location      \t      30\t     0.000\n",
      "I-money         \t      30\t     0.000\n",
      "B-family        \t      25\t     0.000\n",
      "I-med_exam      \t      25\t     0.000\n",
      "B-contact       \t      19\t     0.000\n",
      "B-profession    \t      13\t     0.000\n",
      "B-ID            \t       8\t     0.000\n",
      "I-ID            \t       5\t     0.000\n",
      "B-clinical_event\t       5\t     0.000\n",
      "B-education     \t       3\t     0.000\n",
      "I-family        \t       3\t     0.000\n",
      "B-organization  \t       1\t     0.000\n"
     ]
    }
   ],
   "source": [
    "def tag_percentage(tag_counts):\n",
    "    \n",
    "    total_count = sum([count for tag, count in tag_counts])\n",
    "    \n",
    "    tag_counts_percentages = [(tag, count, count/total_count) for tag, count in tag_counts]\n",
    "        \n",
    "    return tag_counts_percentages\n",
    "\n",
    "print(f\"{'Tag':<16s}\\t{'Count':8s}\\t{'Percentage':5s}\\n\")\n",
    "\n",
    "for tag, count, percent in tag_percentage(PHI_TAGS.vocab.freqs.most_common()):\n",
    "    print(f\"{tag:<16s}\\t{count:>8}\\t{percent:>10.3f}\")"
   ]
  },
  {
   "cell_type": "code",
   "execution_count": 8,
   "metadata": {
    "id": "WtzwgO56lFuu"
   },
   "outputs": [],
   "source": [
    "BATCH_SIZE = 256\n",
    "device = torch.device('cuda' if torch.cuda.is_available() else 'cpu')\n",
    "train_iterator, valid_iterator, test_iterator = data.BucketIterator.splits(\n",
    "    (train_data, valid_data, test_data), \n",
    "    batch_size = BATCH_SIZE, device = device)"
   ]
  },
  {
   "cell_type": "code",
   "execution_count": 170,
   "metadata": {},
   "outputs": [
    {
     "name": "stdout",
     "output_type": "stream",
     "text": [
      "tensor([1, 1, 1, 1, 0, 0, 0, 0, 0, 0, 0, 0, 0, 0, 0, 0, 0, 0, 0, 0, 0, 0, 0, 0,\n",
      "        0, 0, 0, 0, 0, 0, 0, 0, 0, 0, 0, 0, 0, 0, 0, 0, 0, 0, 0, 0, 0, 0, 0, 0,\n",
      "        0, 0, 0, 0, 0, 0, 0, 0, 0, 0, 0, 0, 0, 0, 0, 0, 0, 0, 0, 0, 0, 0, 0, 0,\n",
      "        0, 0, 0, 0, 0, 0, 0, 0, 0, 0, 0], device='cuda:0')\n"
     ]
    }
   ],
   "source": [
    "for i in train_iterator:\n",
    "    print(i.labels[3])\n",
    "    break\n",
    "# PHI_TAGS.vocab.itos"
   ]
  },
  {
   "cell_type": "code",
   "execution_count": 171,
   "metadata": {},
   "outputs": [
    {
     "data": {
      "text/plain": [
       "['<pad>',\n",
       " 'O',\n",
       " 'I-time',\n",
       " 'B-time',\n",
       " 'B-med_exam',\n",
       " 'B-name',\n",
       " 'B-location',\n",
       " 'I-name',\n",
       " 'B-money',\n",
       " 'I-location',\n",
       " 'I-money',\n",
       " 'B-family',\n",
       " 'I-med_exam',\n",
       " 'B-contact',\n",
       " 'B-profession',\n",
       " 'B-ID',\n",
       " 'B-clinical_event',\n",
       " 'I-ID',\n",
       " 'B-education',\n",
       " 'I-family',\n",
       " 'B-organization']"
      ]
     },
     "execution_count": 171,
     "metadata": {},
     "output_type": "execute_result"
    }
   ],
   "source": [
    "PHI_TAGS.vocab.itos"
   ]
  },
  {
   "cell_type": "code",
   "execution_count": 194,
   "metadata": {
    "id": "iVVnXL2H7b9Z"
   },
   "outputs": [],
   "source": [
    "from torch import nn\n",
    "import torch.nn.functional as F\n",
    "from torchcrf import CRF\n",
    "\n",
    "class CharWordEmbLSTMCRF(nn.Module):\n",
    "    def __init__(self, input_dim, embedding_dim,                  \n",
    "                 hidden_dim, output_dim, \n",
    "                 dropout,\n",
    "                 text_pad_idx,\n",
    "\n",
    "                 char_emb_dim,\n",
    "                 char_input_dim,\n",
    "                 char_cnn_filter_num,\n",
    "                 char_cnn_kernel_size,\n",
    "                 cnn_dropout,\n",
    "                 char_pad_idx,\n",
    "                 tag_pad_idx\n",
    "                 ):\n",
    "        super().__init__()        \n",
    "        self.embedding = nn.Embedding(input_dim, embedding_dim, padding_idx = text_pad_idx)        \n",
    "        self.char_emb_dim = char_emb_dim\n",
    "        self.char_emb = nn.Embedding(char_input_dim, char_emb_dim, padding_idx=char_pad_idx)\n",
    "        \n",
    "        self.my_pad = nn.ConstantPad1d(1, char_pad_idx)\n",
    "        self.char_cnn = nn.Conv1d(\n",
    "            char_emb_dim,\n",
    "            out_channels=char_emb_dim * char_cnn_filter_num,\n",
    "            kernel_size=char_cnn_kernel_size,\n",
    "            groups=char_emb_dim  # different 1d conv for each embedding dim\n",
    "        )\n",
    "        \n",
    "        self.dropout = nn.Dropout(dropout)\n",
    "        self.cnn_dropout = nn.Dropout(cnn_dropout)\n",
    "        self.rnn = nn.LSTM(embedding_dim + (char_emb_dim * char_cnn_filter_num), hidden_dim)\n",
    "        self.fc = nn.Linear(hidden_dim, output_dim)\n",
    "        # new adding part\n",
    "        self.tag_pad_idx = tag_pad_idx\n",
    "        self.crf = CRF(num_tags=output_dim, batch_first = True)\n",
    "        \n",
    "    def forward(self, words, chars, tags=None):\n",
    "#         print(tags)\n",
    "        embedded = self.embedding(words)\n",
    "        embedded = self.dropout(embedded) # [batch size, seq len, embed dim]\n",
    "        chars = self.my_pad(chars)\n",
    "        char_emb = self.dropout(self.char_emb(chars)) # [batch size, sent len, word len, embed dim]\n",
    "        batch_size, sent_len, word_len, char_emb_dim = char_emb.shape\n",
    "        char_cnn_max_out = torch.zeros(batch_size, sent_len, self.char_cnn.out_channels).to(device)\n",
    "        for sent_i in range(sent_len):\n",
    "            sent_char_emb = char_emb[:, sent_i, :, :]  # get the character field of sent i            \n",
    "            sent_char_emb_p = sent_char_emb.permute(0, 2, 1)  # the channel (char emb dim) has to be the last dimension\n",
    "            char_cnn_sent_out = self.char_cnn(sent_char_emb_p)\n",
    "            char_cnn_max_out[:, sent_i, :], _ = torch.max(char_cnn_sent_out, dim=2)  # max pooling over the word length dimension\n",
    "        char_cnn = self.cnn_dropout(char_cnn_max_out)\n",
    "        word_features = torch.cat((embedded, char_cnn), dim=2)\n",
    "        output, hidden = self.rnn(word_features) \n",
    "        fc_out = self.fc(self.dropout(output))\n",
    "        print(fc_out)\n",
    "        if tags is not None:\n",
    "            print(tags)\n",
    "            mask = tags != self.tag_pad_idx\n",
    "            crf_out = self.crf.decode(fc_out, mask=mask)\n",
    "            crf_loss = -self.crf(fc_out, tags=tags, mask=mask)\n",
    "        else:\n",
    "            crf_out = self.crf.decode(fc_out)\n",
    "            crf_loss = None\n",
    "        return crf_out, crf_loss\n",
    "\n",
    "\n",
    "    ### BEGIN MODIFIED SECTION: CRF OUTPUT ###\n",
    "    def init_crf_transitions(self, tag_names, imp_value=-100):\n",
    "        num_tags = len(tag_names)\n",
    "        for i in range(num_tags):\n",
    "            tag_name = tag_names[i]\n",
    "            if tag_name[0] in (\"I\") or tag_name == \"<pad>\":\n",
    "                torch.nn.init.constant_(self.crf.start_transitions[i], imp_value)\n",
    "            if tag_name[0] in (\"B\", \"I\"):\n",
    "                torch.nn.init.constant_(self.crf.end_transitions[i], imp_value)\n",
    "        tag_is = {}\n",
    "        for tag_position in (\"B\", \"I\", \"O\"):\n",
    "            tag_is[tag_position] = [i for i, tag in enumerate(tag_names) if tag[0] == tag_position]\n",
    "        \n",
    "        impossible_transitions_position = {\n",
    "            #\"B\": \"BOUP\",\n",
    "            #\"I\": \"BOUP\",\n",
    "            \"O\": \"I\",        \n",
    "        }\n",
    "        for from_tag, to_tag_list in impossible_transitions_position.items():\n",
    "            to_tags = list(to_tag_list)\n",
    "            for from_tag_i in tag_is[from_tag]:\n",
    "                for to_tag in to_tags:\n",
    "                    for to_tag_i in tag_is[to_tag]:\n",
    "                        torch.nn.init.constant_(\n",
    "                            self.crf.transitions[from_tag_i, to_tag_i], imp_value\n",
    "                        )\n",
    "        impossible_transitions_tags = {\n",
    "            \"B\": \"I\",\n",
    "            \"I\": \"I\"\n",
    "        }\n",
    "        for from_tag, to_tag_list in impossible_transitions_tags.items():\n",
    "            to_tags = list(to_tag_list)\n",
    "            for from_tag_i in tag_is[from_tag]:\n",
    "                for to_tag in to_tags:\n",
    "                    for to_tag_i in tag_is[to_tag]:\n",
    "                        if tag_names[from_tag_i].split(\"-\")[1] != tag_names[to_tag_i].split(\"-\")[1]:\n",
    "                            torch.nn.init.constant_(\n",
    "                                self.crf.transitions[from_tag_i, to_tag_i], imp_value\n",
    "                            )\n",
    "    ### END MODIFIED SECTION: CRF OUTPUT ###"
   ]
  },
  {
   "cell_type": "code",
   "execution_count": 195,
   "metadata": {
    "colab": {
     "base_uri": "https://localhost:8080/"
    },
    "executionInfo": {
     "elapsed": 705,
     "status": "ok",
     "timestamp": 1607586443841,
     "user": {
      "displayName": "Hong-Jie Dai",
      "photoUrl": "",
      "userId": "00527198433951254052"
     },
     "user_tz": -480
    },
    "id": "f9aAGPdB8mlH",
    "outputId": "5c1e3f0b-d192-4b96-b02f-03f744ccebda"
   },
   "outputs": [
    {
     "data": {
      "text/plain": [
       "CharWordEmbLSTMCRF(\n",
       "  (embedding): Embedding(3124, 300, padding_idx=1)\n",
       "  (char_emb): Embedding(1182, 100, padding_idx=1)\n",
       "  (my_pad): ConstantPad1d(padding=(1, 1), value=1)\n",
       "  (char_cnn): Conv1d(100, 500, kernel_size=(2,), stride=(1,), groups=100)\n",
       "  (dropout): Dropout(p=0, inplace=False)\n",
       "  (cnn_dropout): Dropout(p=0, inplace=False)\n",
       "  (rnn): LSTM(800, 256)\n",
       "  (fc): Linear(in_features=256, out_features=21, bias=True)\n",
       "  (crf): CRF(num_tags=21)\n",
       ")"
      ]
     },
     "execution_count": 195,
     "metadata": {},
     "output_type": "execute_result"
    }
   ],
   "source": [
    "INPUT_DIM = len(TEXT.vocab)\n",
    "EMBEDDING_DIM = 300\n",
    "HIDDEN_DIM = 256\n",
    "OUTPUT_DIM = len(PHI_TAGS.vocab)\n",
    "DROPOUT = 0\n",
    "\n",
    "CHAR_EMBEDDING_DIM = 100\n",
    "CHAR_INPUT_DIM = len(CHAR.vocab)\n",
    "FILTER_NUM = 5\n",
    "KERNEL_SIZE = 2\n",
    "\n",
    "TEXT_PAD_IDX = TEXT.vocab.stoi[TEXT.pad_token]\n",
    "CHAR_PAD_IDX = CHAR.vocab.stoi[CHAR.pad_token]\n",
    "TAG_PAD_IDX = PHI_TAGS.vocab.stoi[PHI_TAGS.pad_token]\n",
    "\n",
    "model = CharWordEmbLSTMCRF(\n",
    "    INPUT_DIM, EMBEDDING_DIM, HIDDEN_DIM,\n",
    "    OUTPUT_DIM, DROPOUT, TEXT_PAD_IDX,\n",
    "    CHAR_EMBEDDING_DIM,\n",
    "    CHAR_INPUT_DIM,\n",
    "    FILTER_NUM,\n",
    "    KERNEL_SIZE,\n",
    "    DROPOUT,    \n",
    "    CHAR_PAD_IDX,\n",
    "    TAG_PAD_IDX\n",
    ")\n",
    "\n",
    "model"
   ]
  },
  {
   "cell_type": "code",
   "execution_count": 196,
   "metadata": {
    "colab": {
     "base_uri": "https://localhost:8080/"
    },
    "executionInfo": {
     "elapsed": 832,
     "status": "ok",
     "timestamp": 1607586449373,
     "user": {
      "displayName": "Hong-Jie Dai",
      "photoUrl": "",
      "userId": "00527198433951254052"
     },
     "user_tz": -480
    },
    "id": "Cm1NudHlaAel",
    "outputId": "14efa3de-6fab-47ba-e500-c636ed751002"
   },
   "outputs": [],
   "source": [
    "# CRF transitions initialization for impossible transitions\n",
    "model.init_crf_transitions(tag_names=PHI_TAGS.vocab.itos)\n",
    "# print_crf_transitions(PHI_TAGS.vocab, model.crf)  "
   ]
  },
  {
   "cell_type": "code",
   "execution_count": 197,
   "metadata": {
    "colab": {
     "base_uri": "https://localhost:8080/"
    },
    "executionInfo": {
     "elapsed": 631,
     "status": "ok",
     "timestamp": 1607586452267,
     "user": {
      "displayName": "Hong-Jie Dai",
      "photoUrl": "",
      "userId": "00527198433951254052"
     },
     "user_tz": -480
    },
    "id": "1JpXj55I83tm",
    "outputId": "2f8d6eec-f23d-4003-d17d-23b671ca4bb0"
   },
   "outputs": [
    {
     "name": "stdout",
     "output_type": "stream",
     "text": [
      "The model has 2,146,172 trainable parameters\n"
     ]
    }
   ],
   "source": [
    "def count_parameters(model):\n",
    "    return sum(p.numel() for p in model.parameters() if p.requires_grad)\n",
    "\n",
    "print(f'The model has {count_parameters(model):,} trainable parameters')"
   ]
  },
  {
   "cell_type": "code",
   "execution_count": 198,
   "metadata": {
    "id": "MPYnaRr1NJ77"
   },
   "outputs": [],
   "source": [
    "import torch.optim as optim\n",
    "optimizer = optim.Adam(model.parameters())\n",
    "model = model.to(device)"
   ]
  },
  {
   "cell_type": "code",
   "execution_count": 199,
   "metadata": {
    "id": "jsTXjbZ7Nbib"
   },
   "outputs": [],
   "source": [
    "from seqeval.metrics import f1_score\n",
    "\n",
    "def calculate_f_score(preds, ys, tag_pad_idx):\n",
    "    # ys' shape: [batch size, max length of the seq]\n",
    "    y_pred = []\n",
    "    for y in preds:\n",
    "        s = []        \n",
    "        for p in y:\n",
    "            if p != tag_pad_idx:\n",
    "                s.append(PHI_TAGS.vocab.itos[p])\n",
    "            else:\n",
    "                s.append('O')\n",
    "        y_pred.append(s)\n",
    "    \n",
    "    y_gold = []\n",
    "    for y in ys:\n",
    "        s = []        \n",
    "        for g in y:\n",
    "            if g != tag_pad_idx:\n",
    "                s.append(PHI_TAGS.vocab.itos[g])\n",
    "            #else:\n",
    "            #    s.append('O')\n",
    "        y_gold.append(s)\n",
    "\n",
    "    f_score = f1_score(y_gold, y_pred, zero_division = 0)\n",
    "    return f_score"
   ]
  },
  {
   "cell_type": "code",
   "execution_count": 200,
   "metadata": {
    "id": "dpHSemq2NdLh"
   },
   "outputs": [],
   "source": [
    "def train(model, iterator, optimizer, tag_pad_idx):    \n",
    "    epoch_loss = 0\n",
    "    epoch_f_score = 0    \n",
    "    model.train()\n",
    "    \n",
    "    for batch in iterator:\n",
    "        \n",
    "        text = batch.text\n",
    "        tags = batch.labels\n",
    "        char = batch.char\n",
    "        \n",
    "        optimizer.zero_grad()\n",
    "        \n",
    "        #text = [batch size, sent len]\n",
    "        #char = [batch size, sent len, word len]\n",
    "        \n",
    "        ### BEGIN MODIFIED SECTION: CRF OUTPUT ###\n",
    "        pred_tags_list, batch_loss = model(text, char, tags)\n",
    "        \n",
    "        f_score = calculate_f_score(pred_tags_list, tags, tag_pad_idx)\n",
    "        \n",
    "        batch_loss.backward()        \n",
    "        optimizer.step()\n",
    "        \n",
    "        epoch_loss += batch_loss.item()\n",
    "        epoch_f_score += f_score\n",
    "        break\n",
    "        \n",
    "    return epoch_loss / len(iterator), epoch_f_score / len(iterator)"
   ]
  },
  {
   "cell_type": "code",
   "execution_count": 201,
   "metadata": {
    "id": "gSS7dHCDNfoT"
   },
   "outputs": [],
   "source": [
    "def evaluate(model, iterator, tag_pad_idx):    \n",
    "    epoch_loss = 0\n",
    "    epoch_f_score = 0    \n",
    "    model.eval()\n",
    "    \n",
    "    with torch.no_grad():    \n",
    "        for batch in iterator:\n",
    "            text = batch.text\n",
    "            tags = batch.labels\n",
    "            char = batch.char\n",
    "\n",
    "            # MODIFIED PARTS\n",
    "            predictions, batch_loss = model(text, char, tags)\n",
    "            # END\n",
    "\n",
    "            f_score = calculate_f_score(predictions, tags, tag_pad_idx)\n",
    "            \n",
    "            epoch_loss += batch_loss.item()\n",
    "            epoch_f_score += f_score\n",
    "        \n",
    "    return epoch_loss / len(iterator), epoch_f_score / len(iterator)"
   ]
  },
  {
   "cell_type": "code",
   "execution_count": 202,
   "metadata": {
    "id": "tM6zsNLENhwV"
   },
   "outputs": [],
   "source": [
    "def epoch_time(start_time, end_time):\n",
    "    elapsed_time = end_time - start_time\n",
    "    elapsed_mins = int(elapsed_time / 60)\n",
    "    elapsed_secs = int(elapsed_time - (elapsed_mins * 60))\n",
    "    return elapsed_mins, elapsed_secs"
   ]
  },
  {
   "cell_type": "code",
   "execution_count": 203,
   "metadata": {
    "id": "gkaNfDA8Fj5f"
   },
   "outputs": [],
   "source": [
    "def save_checkpoint(epoch, model, optimizer, val_f1, word_map, char_map, tag_map, lm_vocab_size, is_best, is_best_loss, fname):\n",
    "    state = {'epoch': epoch,\n",
    "             'f1': val_f1,\n",
    "             'model': model,\n",
    "             'optimizer': optimizer,\n",
    "             'word_map': word_map,\n",
    "             'glove_word_map': glove_word_map,\n",
    "             'tag_map': tag_map,\n",
    "             'char_map': char_map,\n",
    "             'lm_vocab_size': lm_vocab_size,\n",
    "             'epochs_since_improvement': epochs_since_improvement,\n",
    "             'elmo_embedder': elmo_embedder,\n",
    "             'train_loader': train_loader,\n",
    "             'umls_map': umls_map,\n",
    "             'pos_map': pos_map,\n",
    "             'val_loader' : val_loader,\n",
    "             'vb_decoder' : vb_decoder,\n",
    "             'crf_criterion' : crf_criterion,\n",
    "             'lm_criterion' : lm_criterion,\n",
    "             'start_epoch' : epoch,\n",
    "             'rev_tag_map': rev_tag_map}\n",
    "    \n",
    "    if not os.path.exists(OUTPUT_FOLDER):\n",
    "        os.mkdir(OUTPUT_FOLDER)\n",
    "    filename = os.path.join(OUTPUT_FOLDER, f'{fname}.tar')\n",
    "    if epoch % SAVE_RATE == 0 or epoch == epochs:\n",
    "        print('Saving checkpoint...')\n",
    "        torch.save(state, filename)\n",
    "    # If checkpoint is the best so far, create a copy to avoid being overwritten by a subsequent worse checkpoint\n",
    "    if is_best:\n",
    "        print('Saving best F-score checkpoint...')\n",
    "        filename = os.path.join(OUTPUT_FOLDER, f'BEST_{fname}.tar')\n",
    "        torch.save(state, filename)\n",
    "    elif is_best_loss:\n",
    "        print('Saving best loss checkpoint...')\n",
    "        filename = os.path.join(OUTPUT_FOLDER, f'BEST_L_{fname}.tar')\n",
    "        torch.save(state, filename)"
   ]
  },
  {
   "cell_type": "code",
   "execution_count": 204,
   "metadata": {
    "colab": {
     "base_uri": "https://localhost:8080/"
    },
    "id": "pyzgDCgh9KwE",
    "outputId": "2290bba8-b040-4dba-89cb-2a95c3b43783"
   },
   "outputs": [
    {
     "name": "stdout",
     "output_type": "stream",
     "text": [
      "tensor([[[ 0.0221,  0.0516,  0.1097,  ...,  0.0451, -0.0285,  0.0193],\n",
      "         [ 0.0267,  0.0340, -0.0666,  ...,  0.1129, -0.1310,  0.1072],\n",
      "         [-0.0522,  0.0818,  0.0996,  ...,  0.0932, -0.1045,  0.1519],\n",
      "         ...,\n",
      "         [-0.0194, -0.0088,  0.0496,  ...,  0.0785,  0.0221, -0.0118],\n",
      "         [-0.0194, -0.0088,  0.0496,  ...,  0.0785,  0.0221, -0.0118],\n",
      "         [-0.0194, -0.0088,  0.0496,  ...,  0.0785,  0.0221, -0.0118]],\n",
      "\n",
      "        [[-0.0528,  0.0090,  0.1162,  ..., -0.0009,  0.1785,  0.0559],\n",
      "         [ 0.0043,  0.0340, -0.0952,  ...,  0.1467, -0.1867,  0.1472],\n",
      "         [-0.1470,  0.0040,  0.0361,  ...,  0.1401, -0.0278,  0.0942],\n",
      "         ...,\n",
      "         [-0.0550, -0.0179,  0.0786,  ...,  0.0861,  0.0206, -0.0234],\n",
      "         [-0.0550, -0.0179,  0.0786,  ...,  0.0861,  0.0206, -0.0234],\n",
      "         [-0.0550, -0.0179,  0.0786,  ...,  0.0861,  0.0206, -0.0234]],\n",
      "\n",
      "        [[-0.0545, -0.0122,  0.1040,  ..., -0.0345,  0.2568,  0.0940],\n",
      "         [-0.0101,  0.0334, -0.1111,  ...,  0.1673, -0.2149,  0.1703],\n",
      "         [-0.0020, -0.0230,  0.0190,  ...,  0.0278, -0.0512,  0.0944],\n",
      "         ...,\n",
      "         [-0.1245,  0.0811,  0.0543,  ...,  0.0025, -0.1061, -0.0789],\n",
      "         [-0.0984,  0.0191, -0.0087,  ...,  0.2317, -0.0601, -0.0210],\n",
      "         [-0.0852,  0.0365,  0.0568,  ...,  0.0537, -0.1358,  0.0391]],\n",
      "\n",
      "        ...,\n",
      "\n",
      "        [[-0.0396,  0.0359,  0.1637,  ...,  0.0394,  0.0543,  0.0417],\n",
      "         [-0.0033,  0.0477, -0.0204,  ...,  0.1879, -0.1814,  0.1435],\n",
      "         [-0.0091, -0.0779, -0.0464,  ...,  0.1767,  0.0203, -0.0030],\n",
      "         ...,\n",
      "         [-0.0931, -0.0365,  0.1221,  ...,  0.0905,  0.0120, -0.0468],\n",
      "         [-0.0924, -0.0358,  0.1265,  ...,  0.0895,  0.0139, -0.0471],\n",
      "         [-0.0930, -0.0361,  0.1254,  ...,  0.0900,  0.0139, -0.0473]],\n",
      "\n",
      "        [[-0.1080,  0.0163,  0.1692,  ..., -0.0176,  0.1890,  0.0683],\n",
      "         [-0.0188,  0.0425, -0.0579,  ...,  0.1960, -0.2028,  0.1622],\n",
      "         [-0.0815, -0.1980,  0.0236,  ...,  0.2005, -0.1002,  0.0756],\n",
      "         ...,\n",
      "         [-0.0930, -0.0362,  0.1237,  ...,  0.0904,  0.0129, -0.0470],\n",
      "         [-0.0926, -0.0359,  0.1266,  ...,  0.0896,  0.0141, -0.0472],\n",
      "         [-0.0929, -0.0361,  0.1259,  ...,  0.0900,  0.0141, -0.0473]],\n",
      "\n",
      "        [[-0.0801,  0.0955,  0.1113,  ...,  0.1078,  0.1676,  0.1160],\n",
      "         [-0.0276,  0.0414, -0.0836,  ...,  0.1999, -0.2203,  0.1776],\n",
      "         [-0.1004, -0.1715,  0.0322,  ...,  0.1775, -0.0714,  0.0375],\n",
      "         ...,\n",
      "         [-0.0930, -0.0361,  0.1247,  ...,  0.0903,  0.0134, -0.0472],\n",
      "         [-0.0927, -0.0360,  0.1268,  ...,  0.0897,  0.0142, -0.0473],\n",
      "         [-0.0929, -0.0360,  0.1263,  ...,  0.0900,  0.0142, -0.0474]]],\n",
      "       device='cuda:0', grad_fn=<AddBackward0>)\n",
      "tensor([[1, 1, 1, 1, 0, 0, 0, 0, 0, 0, 0, 0, 0, 0, 0, 0, 0, 0, 0, 0, 0, 0, 0, 0,\n",
      "         0, 0, 0, 0, 0, 0, 0],\n",
      "        [1, 1, 1, 1, 0, 0, 0, 0, 0, 0, 0, 0, 0, 0, 0, 0, 0, 0, 0, 0, 0, 0, 0, 0,\n",
      "         0, 0, 0, 0, 0, 0, 0],\n",
      "        [1, 1, 1, 1, 1, 1, 1, 1, 1, 1, 1, 1, 1, 1, 1, 1, 1, 1, 1, 1, 1, 1, 1, 1,\n",
      "         1, 1, 1, 1, 1, 1, 1],\n",
      "        [1, 1, 1, 1, 1, 3, 1, 1, 1, 1, 1, 1, 1, 1, 1, 1, 1, 1, 1, 1, 1, 1, 1, 1,\n",
      "         0, 0, 0, 0, 0, 0, 0],\n",
      "        [1, 1, 1, 1, 1, 1, 1, 1, 1, 1, 1, 1, 1, 1, 1, 1, 1, 1, 1, 1, 1, 1, 1, 1,\n",
      "         1, 1, 1, 1, 1, 0, 0],\n",
      "        [1, 1, 1, 1, 1, 0, 0, 0, 0, 0, 0, 0, 0, 0, 0, 0, 0, 0, 0, 0, 0, 0, 0, 0,\n",
      "         0, 0, 0, 0, 0, 0, 0],\n",
      "        [1, 1, 1, 1, 1, 1, 1, 1, 1, 1, 1, 1, 1, 1, 0, 0, 0, 0, 0, 0, 0, 0, 0, 0,\n",
      "         0, 0, 0, 0, 0, 0, 0],\n",
      "        [1, 1, 1, 1, 1, 1, 1, 1, 0, 0, 0, 0, 0, 0, 0, 0, 0, 0, 0, 0, 0, 0, 0, 0,\n",
      "         0, 0, 0, 0, 0, 0, 0],\n",
      "        [1, 1, 1, 1, 0, 0, 0, 0, 0, 0, 0, 0, 0, 0, 0, 0, 0, 0, 0, 0, 0, 0, 0, 0,\n",
      "         0, 0, 0, 0, 0, 0, 0],\n",
      "        [1, 1, 1, 1, 0, 0, 0, 0, 0, 0, 0, 0, 0, 0, 0, 0, 0, 0, 0, 0, 0, 0, 0, 0,\n",
      "         0, 0, 0, 0, 0, 0, 0],\n",
      "        [1, 1, 1, 1, 1, 1, 1, 1, 1, 1, 1, 0, 0, 0, 0, 0, 0, 0, 0, 0, 0, 0, 0, 0,\n",
      "         0, 0, 0, 0, 0, 0, 0],\n",
      "        [1, 1, 1, 1, 1, 1, 0, 0, 0, 0, 0, 0, 0, 0, 0, 0, 0, 0, 0, 0, 0, 0, 0, 0,\n",
      "         0, 0, 0, 0, 0, 0, 0],\n",
      "        [1, 1, 1, 1, 1, 1, 1, 1, 1, 1, 1, 1, 0, 0, 0, 0, 0, 0, 0, 0, 0, 0, 0, 0,\n",
      "         0, 0, 0, 0, 0, 0, 0],\n",
      "        [1, 1, 1, 1, 1, 1, 1, 0, 0, 0, 0, 0, 0, 0, 0, 0, 0, 0, 0, 0, 0, 0, 0, 0,\n",
      "         0, 0, 0, 0, 0, 0, 0],\n",
      "        [1, 1, 1, 1, 1, 1, 1, 1, 1, 1, 0, 0, 0, 0, 0, 0, 0, 0, 0, 0, 0, 0, 0, 0,\n",
      "         0, 0, 0, 0, 0, 0, 0],\n",
      "        [1, 1, 1, 1, 6, 1, 1, 0, 0, 0, 0, 0, 0, 0, 0, 0, 0, 0, 0, 0, 0, 0, 0, 0,\n",
      "         0, 0, 0, 0, 0, 0, 0]], device='cuda:0')\n",
      "Epoch: 01 | Epoch Time: 0m 0s\n",
      "\tTrain Loss: 0.479 | Train F-score: 0.00%\n"
     ]
    }
   ],
   "source": [
    "import time\n",
    "\n",
    "N_EPOCHS = 1\n",
    "\n",
    "best_valid_loss = float('inf')\n",
    "\n",
    "\n",
    "BATCH_SIZE = 16\n",
    "\n",
    "train_iterator, valid_iterator, test_iterator = data.BucketIterator.splits(\n",
    "    (train_data, valid_data, test_data), \n",
    "    batch_size = BATCH_SIZE, device = device)\n",
    "\n",
    "for epoch in range(N_EPOCHS):\n",
    "\n",
    "    start_time = time.time()\n",
    "    \n",
    "    train_loss, train_f = train(model, train_iterator, optimizer, TAG_PAD_IDX)\n",
    "#     valid_loss, valid_f = evaluate(model, valid_iterator, TAG_PAD_IDX)\n",
    "    \n",
    "    end_time = time.time()\n",
    "\n",
    "    epoch_mins, epoch_secs = epoch_time(start_time, end_time)\n",
    "    \n",
    "#     if valid_loss < best_valid_loss:\n",
    "#         best_valid_loss = valid_loss\n",
    "#         torch.save(model.state_dict(), 'ai_cup-model.pt')\n",
    "    \n",
    "    print(f'Epoch: {epoch+1:02} | Epoch Time: {epoch_mins}m {epoch_secs}s')\n",
    "    print(f'\\tTrain Loss: {train_loss:.3f} | Train F-score: {train_f*100:.2f}%')\n",
    "#     print(f'\\t Val. Loss: {valid_loss:.3f} |  Val. F-score: {valid_f*100:.2f}%')"
   ]
  },
  {
   "cell_type": "code",
   "execution_count": 35,
   "metadata": {
    "id": "yVJYAYHFd7Kh"
   },
   "outputs": [],
   "source": [
    "def save_model(epoch, model, fname):\n",
    "    state = {'epoch': epoch, 'model': model}\n",
    "    \n",
    "    filename = f'{fname}.tar'\n",
    "    torch.save(state, filename)\n",
    "save_model(20, model, 'e20')    "
   ]
  },
  {
   "cell_type": "code",
   "execution_count": 134,
   "metadata": {},
   "outputs": [
    {
     "data": {
      "text/plain": [
       "['<pad>',\n",
       " 'O',\n",
       " 'time',\n",
       " 'med_exam',\n",
       " 'name',\n",
       " 'location',\n",
       " 'money',\n",
       " 'family',\n",
       " 'contact',\n",
       " 'profession',\n",
       " 'ID',\n",
       " 'clinical_event',\n",
       " 'education',\n",
       " 'organization']"
      ]
     },
     "execution_count": 134,
     "metadata": {},
     "output_type": "execute_result"
    }
   ],
   "source": [
    "a = []\n",
    "for i in PHI_TAGS.vocab.itos:\n",
    "    if i != 'O' and i != '<pad>' and i[2:] not in a:\n",
    "        a.append(i[2:])\n",
    "    elif i == 'O' or i == '<pad>':\n",
    "        a.append(i)\n",
    "a"
   ]
  },
  {
   "cell_type": "code",
   "execution_count": 143,
   "metadata": {
    "colab": {
     "base_uri": "https://localhost:8080/"
    },
    "executionInfo": {
     "elapsed": 664,
     "status": "ok",
     "timestamp": 1607586400262,
     "user": {
      "displayName": "Hong-Jie Dai",
      "photoUrl": "",
      "userId": "00527198433951254052"
     },
     "user_tz": -480
    },
    "id": "oeb0on1r4yrr",
    "outputId": "5c8265cd-a33f-4d55-b6f8-7d398f395324",
    "scrolled": false
   },
   "outputs": [
    {
     "name": "stdout",
     "output_type": "stream",
     "text": [
      "\n",
      "Between tags transitions:\n",
      "['<pad>', 'O', 'I-time', 'B-time', 'B-med_exam', 'B-name', 'B-location', 'I-name', 'B-money', 'I-location', 'I-money', 'B-family', 'I-med_exam', 'B-contact', 'B-profession', 'B-ID', 'B-clinical_event', 'I-ID', 'B-education', 'I-family', 'B-organization']\n",
      "[1, 2, 3, 4, 5, 6, 7, 8, 9, 10, 11, 12, 13, 14, 15, 16, 17, 18, 19, 20]\n",
      "16\n",
      "B-clinical_event\n"
     ]
    }
   ],
   "source": [
    "from torchcrf import CRF\n",
    "### BEGIN MODIFIED SECTION: CRF OUTPUT ###\n",
    "def init_crf_transitions(tag_names, imp_value=-100):\n",
    "    crf = CRF(num_tags=len(PHI_TAGS.vocab))\n",
    "    num_tags = len(tag_names)\n",
    "    for i in range(num_tags):\n",
    "        tag_name = tag_names[i]\n",
    "        if tag_name[0] in (\"I\") or tag_name == \"<pad>\":\n",
    "            torch.nn.init.constant_(crf.start_transitions[i], imp_value)\n",
    "    tag_is = {}\n",
    "    for tag_position in (\"B\", \"I\", \"O\"):\n",
    "        tag_is[tag_position] = [i for i, tag in enumerate(tag_names) if tag[0] == tag_position]\n",
    "    \n",
    "    impossible_transitions_position = {\n",
    "        \"O\": \"I\",        \n",
    "    }\n",
    "    for from_tag, to_tag_list in impossible_transitions_position.items():\n",
    "        to_tags = list(to_tag_list)\n",
    "        for from_tag_i in tag_is[from_tag]:\n",
    "            for to_tag in to_tags:\n",
    "                for to_tag_i in tag_is[to_tag]:\n",
    "                    torch.nn.init.constant_(\n",
    "                        crf.transitions[from_tag_i, to_tag_i], imp_value\n",
    "                    )\n",
    "    # init impossible B and I transitions to different entity types\n",
    "    impossible_transitions_tags = {\n",
    "        \"B\": \"I\",\n",
    "        \"I\": \"I\"\n",
    "    }\n",
    "    for from_tag, to_tag_list in impossible_transitions_tags.items():\n",
    "        to_tags = list(to_tag_list)\n",
    "        for from_tag_i in tag_is[from_tag]:\n",
    "            for to_tag in to_tags:\n",
    "                for to_tag_i in tag_is[to_tag]:\n",
    "                    if tag_names[from_tag_i].split(\"-\")[1] != tag_names[to_tag_i].split(\"-\")[1]:\n",
    "                        torch.nn.init.constant_(\n",
    "                            crf.transitions[from_tag_i, to_tag_i], imp_value\n",
    "                        )\n",
    "    return crf\n",
    "\n",
    "def print_crf_transitions(tag_vocab, crf):\n",
    "#     tags = tag_vocab.itos\n",
    "#     max_len_tag = max([len(tag) for tag in tags])\n",
    "#     print(\"Start and end tag transitions:\")\n",
    "#     print(f\"{'TAG'.ljust(max_len_tag)}\\tSTART\\tEND\")\n",
    "#     for tag, start_prob, end_prob in zip(tags, crf.start_transitions.tolist(), crf.end_transitions.tolist()):\n",
    "#         print(f\"{tag.ljust(max_len_tag)}\\t{round(start_prob, 2)}\\t{round(end_prob, 2)}\")\n",
    "    print(\"\\nBetween tags transitions:\")\n",
    "    print(tag_vocab.itos)\n",
    "    persons_i = [i for i, tag in enumerate(tag_vocab.itos) if \"time\" in tag or 'money' in tag or 'family' in tag or 'contact' in tag or 'profession' in tag or 'ID' in tag\\\n",
    "                 or 'clinical_event' in tag or 'education' in tag or 'organization' in tag or \"med_exam\" in tag or \"name\" in tag or 'location' in tag or tag == \"O\"]\n",
    "    print(persons_i)\n",
    "    max_len_tag = max([len(tag) for tag in tag_vocab.itos])\n",
    "    print(max_len_tag)\n",
    "    print(tag_vocab.itos[max_len_tag])\n",
    "#     transitions = crf.transitions\n",
    "#     to_tags = \"TO\".rjust(max_len_tag) + \"\\t\" + \"\\t\".join([tag.ljust(max_len_tag) for tag in tags if \"time\" in tag or 'money' in tag or 'family' in tag or 'contact' in tag or 'profession' in tag or 'ID' in tag\\\n",
    "#                  or 'clinical_event' in tag or 'education' in tag or 'organization' in tag or \"med_exam\" in tag or \"name\" in tag or 'location' in tag or tag == \"O\"])\n",
    "#     print(to_tags)\n",
    "#     print(\"FROM\")\n",
    "#     for from_tag_i, from_tag_probs in enumerate(transitions[persons_i]):\n",
    "#         to_tag_str = f\"{tags[persons_i[from_tag_i]].ljust(max_len_tag)}\"\n",
    "#         for to_tag_prob in from_tag_probs[persons_i]:\n",
    "#             to_tag_str += f\"\\t{str(round(to_tag_prob.item(), 2)).ljust(max_len_tag)}\"\n",
    "#         print(to_tag_str)\n",
    "\n",
    "\n",
    "# crf = CRF(num_tags=len(PHI_TAGS.vocab))\n",
    "# print_crf_transitions(PHI_TAGS.vocab, crf)  \n",
    "\n",
    "crf = init_crf_transitions(tag_names=PHI_TAGS.vocab.itos)\n",
    "print_crf_transitions(PHI_TAGS.vocab, crf)  "
   ]
  },
  {
   "cell_type": "code",
   "execution_count": 23,
   "metadata": {
    "id": "PvrrZsV3_Qy0"
   },
   "outputs": [],
   "source": [
    "def tag_sentence(model, device, sentence, text_field, tag_field):\n",
    "    model.eval()\n",
    "    \n",
    "    tokens = [token for token in sentence.split()]\n",
    "        \n",
    "    numericalized_tokens = [text_field.vocab.stoi[t] for t in tokens]\n",
    "\n",
    "    numericalized_chars = []\n",
    "    char_pad_id = CHAR_PAD_IDX\n",
    "    \n",
    "    max_word_len = max([len(token) for token in tokens])\n",
    "\n",
    "    for token in tokens:\n",
    "        numericalized_chars.append(\n",
    "            [CHAR.vocab.stoi[char] for char in token] + [char_pad_id for _ in range(max_word_len - len(token))]\n",
    "            )\n",
    "\n",
    "    token_tensor = torch.LongTensor(numericalized_tokens)\n",
    "    char_tensor = torch.LongTensor(numericalized_chars)\n",
    "    token_tensor = token_tensor.unsqueeze(0).to(device)\n",
    "    char_tensor = char_tensor.unsqueeze(0).to(device)\n",
    "    \n",
    "    ## MODIFIED PARTS\n",
    "    # ignore the loss\n",
    "    predictions, _ = model(token_tensor, char_tensor)    \n",
    "    predicted_tags = [tag_field.vocab.itos[t] for t in predictions[0]]\n",
    "    \n",
    "    return tokens, predicted_tags"
   ]
  },
  {
   "cell_type": "code",
   "execution_count": null,
   "metadata": {
    "colab": {
     "base_uri": "https://localhost:8080/"
    },
    "executionInfo": {
     "elapsed": 2248650,
     "status": "ok",
     "timestamp": 1607504636411,
     "user": {
      "displayName": "Hong-Jie Dai",
      "photoUrl": "",
      "userId": "00527198433951254052"
     },
     "user_tz": -480
    },
    "id": "tOWprtc4NlNP",
    "outputId": "8d2dc3f5-8b80-472b-a5a8-6288fc646c96"
   },
   "outputs": [
    {
     "name": "stdout",
     "output_type": "stream",
     "text": [
      "四月\tB-time\n",
      "跟\tO\n",
      "五月\tB-time\n",
      "那\tO\n",
      "之間\tO\n",
      "，\tO\n",
      "因為\tO\n",
      "他\tO\n",
      "開刀\tO\n",
      "也\tO\n",
      "都\tO\n",
      "是\tO\n",
      "在\tO\n",
      "高雄\tB-location\n",
      "開\tO\n",
      "。\tO\n"
     ]
    }
   ],
   "source": [
    "sent = '四月 跟 五月 那 之間 ， 因為 他 開刀 也 都 是 在 高雄 開 。'\n",
    "#t, p = \n",
    "for t, p in zip(*tag_sentence(model, device, sent, TEXT, PHI_TAGS)):\n",
    "    print(f'{t}\\t{p}')"
   ]
  },
  {
   "cell_type": "code",
   "execution_count": null,
   "metadata": {
    "colab": {
     "base_uri": "https://localhost:8080/"
    },
    "executionInfo": {
     "elapsed": 2248647,
     "status": "ok",
     "timestamp": 1607504636412,
     "user": {
      "displayName": "Hong-Jie Dai",
      "photoUrl": "",
      "userId": "00527198433951254052"
     },
     "user_tz": -480
    },
    "id": "dQinEF9-jJ-m",
    "outputId": "257102be-8aee-4b3d-84c3-7f0d99707f96"
   },
   "outputs": [
    {
     "name": "stdout",
     "output_type": "stream",
     "text": [
      "1月\tB-time\n",
      "跟\tO\n",
      "五月\tB-time\n",
      "那\tO\n",
      "之間\tO\n",
      "，\tO\n",
      "因為\tO\n",
      "他\tO\n",
      "開刀\tO\n",
      "也\tO\n",
      "都\tO\n",
      "是\tO\n",
      "在\tO\n",
      "高醫\tO\n",
      "開\tO\n",
      "。\tO\n"
     ]
    }
   ],
   "source": [
    "sent = '1月 跟 五月 那 之間 ， 因為 他 開刀 也 都 是 在 高醫 開 。'\n",
    "#t, p = \n",
    "for t, p in zip(*tag_sentence(model, device, sent, TEXT, PHI_TAGS)):\n",
    "    print(f'{t}\\t{p}')"
   ]
  },
  {
   "cell_type": "code",
   "execution_count": null,
   "metadata": {
    "colab": {
     "base_uri": "https://localhost:8080/"
    },
    "executionInfo": {
     "elapsed": 2248642,
     "status": "ok",
     "timestamp": 1607504636412,
     "user": {
      "displayName": "Hong-Jie Dai",
      "photoUrl": "",
      "userId": "00527198433951254052"
     },
     "user_tz": -480
    },
    "id": "qyXkGwovh4rX",
    "outputId": "50602dea-1d3e-4ee2-b5af-8d7a66b1662f"
   },
   "outputs": [
    {
     "name": "stdout",
     "output_type": "stream",
     "text": [
      "民眾\tO\n",
      "：\tO\n",
      "身高\tO\n",
      "170\tB-med_exam\n",
      "。\tO\n",
      "醫師\tO\n",
      "：\tO\n",
      "170\tB-med_exam\n",
      "這樣\tO\n",
      "，\tO\n",
      "體重\tO\n",
      "有\tO\n",
      "增加\tO\n",
      "嗎\tO\n",
      "?\tO\n"
     ]
    }
   ],
   "source": [
    "sent = '民眾 ： 身高 170 。 醫師 ： 170 這樣 ， 體重 有 增加 嗎 ?'\n",
    "#t, p = \n",
    "for t, p in zip(*tag_sentence(model, device, sent, TEXT, PHI_TAGS)):\n",
    "    print(f'{t}\\t{p}')"
   ]
  },
  {
   "cell_type": "code",
   "execution_count": null,
   "metadata": {
    "id": "TVltmfGmjQIU"
   },
   "outputs": [],
   "source": []
  }
 ],
 "metadata": {
  "accelerator": "GPU",
  "colab": {
   "collapsed_sections": [],
   "name": "12. CRF.ipynb",
   "provenance": [
    {
     "file_id": "11TZNXqJE7K-fV7jn4GrwYfdBaxOzTEzq",
     "timestamp": 1607353524239
    },
    {
     "file_id": "1bmB1jg_DH0j3Z21CQjSRyAMqsOqK5xgc",
     "timestamp": 1604024298889
    }
   ]
  },
  "kernelspec": {
   "display_name": "Python 3",
   "language": "python",
   "name": "python3"
  },
  "language_info": {
   "codemirror_mode": {
    "name": "ipython",
    "version": 3
   },
   "file_extension": ".py",
   "mimetype": "text/x-python",
   "name": "python",
   "nbconvert_exporter": "python",
   "pygments_lexer": "ipython3",
   "version": "3.8.5"
  }
 },
 "nbformat": 4,
 "nbformat_minor": 1
}
